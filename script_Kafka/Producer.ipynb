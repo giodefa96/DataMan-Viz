{
 "cells": [
  {
   "cell_type": "code",
   "execution_count": null,
   "metadata": {},
   "outputs": [],
   "source": [
    "from kafka import KafkaProducer\n",
    "import json\n",
    "import time\n",
    "import requests\n",
    "from pprint import pprint\n",
    "from pymongo import MongoClient\n",
    "from datetime import date"
   ]
  },
  {
   "cell_type": "markdown",
   "metadata": {},
   "source": [
    "la funzione date.today() mi ridà la data di oggi, che poi verrà aggiunta nel ciclo while che ha un timer di 24 ore, quindi ogni 24 ore la data si aggiorna a quella odierna e mi fa la richiesta all'API più recente."
   ]
  },
  {
   "cell_type": "code",
   "execution_count": null,
   "metadata": {},
   "outputs": [],
   "source": [
    "datetime_object = str(date.today())\n",
    "print(datetime_object)"
   ]
  },
  {
   "cell_type": "code",
   "execution_count": null,
   "metadata": {},
   "outputs": [],
   "source": [
    "api_base_url = \"https://flixpatrol.com/api/v1.2/data/?set=123&streaming=656&region=93&api=7dhd6194kdk4&date=\""
   ]
  },
  {
   "cell_type": "code",
   "execution_count": null,
   "metadata": {},
   "outputs": [],
   "source": [
    "api_base_url_today = api_base_url + str(date.today())\n",
    "print(api_base_url_today)"
   ]
  },
  {
   "cell_type": "markdown",
   "metadata": {},
   "source": [
    "Imposto il producer, che è stato impostato in locale."
   ]
  },
  {
   "cell_type": "code",
   "execution_count": null,
   "metadata": {},
   "outputs": [],
   "source": [
    "producer = KafkaProducer(\n",
    "  bootstrap_servers=[\"localhost:9092\"],\n",
    "  value_serializer=lambda v: json.dumps(v).encode(\"utf-8\"))"
   ]
  },
  {
   "cell_type": "markdown",
   "metadata": {},
   "source": [
    "Come detto in precedenza il ciclo while è stato impostato con un timer di 24 ore che per ogni ciclo fa la richiesta get all'API, il risultato viene caricato,convertito in json e mandato nella coda kafka sotto il topic \"exam\"."
   ]
  },
  {
   "cell_type": "code",
   "execution_count": null,
   "metadata": {},
   "outputs": [],
   "source": [
    "while 1:\n",
    "    response = requests.get(api_base_url + str(date.today()))\n",
    "    producer.send(topic=\"exam\", value=response.json())\n",
    "    time.sleep(60*60*24)"
   ]
  }
 ],
 "metadata": {
  "kernelspec": {
   "display_name": "Python 3",
   "language": "python",
   "name": "python3"
  },
  "language_info": {
   "codemirror_mode": {
    "name": "ipython",
    "version": 3
   },
   "file_extension": ".py",
   "mimetype": "text/x-python",
   "name": "python",
   "nbconvert_exporter": "python",
   "pygments_lexer": "ipython3",
   "version": "3.8.5"
  }
 },
 "nbformat": 4,
 "nbformat_minor": 4
}
