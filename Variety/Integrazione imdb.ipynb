{
 "cells": [
  {
   "cell_type": "markdown",
   "id": "preceding-publicity",
   "metadata": {},
   "source": [
    "# Integrazione dei dati Netflix con i dati IMDb\n",
    "\n",
    "I dati si riferiscono agli show di Netflix tra il 1 dicembre 2020 e il 31 marzo 2021."
   ]
  },
  {
   "cell_type": "code",
   "execution_count": 2,
   "id": "corporate-plymouth",
   "metadata": {},
   "outputs": [],
   "source": [
    "import pandas as pd\n",
    "import re"
   ]
  },
  {
   "cell_type": "markdown",
   "id": "dedicated-official",
   "metadata": {},
   "source": [
    "Leggo i dataframe"
   ]
  },
  {
   "cell_type": "code",
   "execution_count": 3,
   "id": "organic-clock",
   "metadata": {},
   "outputs": [],
   "source": [
    "# Dati da flixpatrol in csv\n",
    "\n",
    "netflix = pd.read_csv(\"Data_flixpatrol/Dati_netflix_dicembre-aprile/netflix_dic-mar2021.csv\", index_col = 0)\n",
    "top_ten = pd.read_csv(\"Data_flixpatrol/Dati_netflix_dicembre-aprile/top_ten_dic-mar2021.csv\", index_col = 0)\n",
    "top_film = pd.read_csv(\"Data_flixpatrol/Dati_netflix_dicembre-aprile/top_ten_film_dic-mar2021.csv\", index_col = 0)\n",
    "top_serie = pd.read_csv(\"Data_flixpatrol/Dati_netflix_dicembre-aprile/top_ten_serie_dic-mar2021.csv\", index_col = 0)"
   ]
  },
  {
   "cell_type": "code",
   "execution_count": 4,
   "id": "personalized-rehabilitation",
   "metadata": {},
   "outputs": [],
   "source": [
    "# Dati da IMDb\n",
    "\n",
    "basics = pd.read_csv(\"Data_imdb/title_basics.csv\", sep = \"\\t\", low_memory = False)\n",
    "ratings = pd.read_csv(\"Data_imdb/ratings.csv\", sep = \"\\t\")"
   ]
  },
  {
   "cell_type": "code",
   "execution_count": 5,
   "id": "international-kinase",
   "metadata": {},
   "outputs": [
    {
     "data": {
      "text/html": [
       "<div>\n",
       "<style scoped>\n",
       "    .dataframe tbody tr th:only-of-type {\n",
       "        vertical-align: middle;\n",
       "    }\n",
       "\n",
       "    .dataframe tbody tr th {\n",
       "        vertical-align: top;\n",
       "    }\n",
       "\n",
       "    .dataframe thead th {\n",
       "        text-align: right;\n",
       "    }\n",
       "</style>\n",
       "<table border=\"1\" class=\"dataframe\">\n",
       "  <thead>\n",
       "    <tr style=\"text-align: right;\">\n",
       "      <th></th>\n",
       "      <th>tconst</th>\n",
       "      <th>titleType</th>\n",
       "      <th>primaryTitle</th>\n",
       "      <th>originalTitle</th>\n",
       "      <th>isAdult</th>\n",
       "      <th>startYear</th>\n",
       "      <th>endYear</th>\n",
       "      <th>runtimeMinutes</th>\n",
       "      <th>genres</th>\n",
       "    </tr>\n",
       "  </thead>\n",
       "  <tbody>\n",
       "    <tr>\n",
       "      <th>0</th>\n",
       "      <td>tt0000001</td>\n",
       "      <td>short</td>\n",
       "      <td>Carmencita</td>\n",
       "      <td>Carmencita</td>\n",
       "      <td>0</td>\n",
       "      <td>1894</td>\n",
       "      <td>\\N</td>\n",
       "      <td>1</td>\n",
       "      <td>Documentary,Short</td>\n",
       "    </tr>\n",
       "    <tr>\n",
       "      <th>1</th>\n",
       "      <td>tt0000002</td>\n",
       "      <td>short</td>\n",
       "      <td>Le clown et ses chiens</td>\n",
       "      <td>Le clown et ses chiens</td>\n",
       "      <td>0</td>\n",
       "      <td>1892</td>\n",
       "      <td>\\N</td>\n",
       "      <td>5</td>\n",
       "      <td>Animation,Short</td>\n",
       "    </tr>\n",
       "    <tr>\n",
       "      <th>2</th>\n",
       "      <td>tt0000003</td>\n",
       "      <td>short</td>\n",
       "      <td>Pauvre Pierrot</td>\n",
       "      <td>Pauvre Pierrot</td>\n",
       "      <td>0</td>\n",
       "      <td>1892</td>\n",
       "      <td>\\N</td>\n",
       "      <td>4</td>\n",
       "      <td>Animation,Comedy,Romance</td>\n",
       "    </tr>\n",
       "  </tbody>\n",
       "</table>\n",
       "</div>"
      ],
      "text/plain": [
       "      tconst titleType            primaryTitle           originalTitle  \\\n",
       "0  tt0000001     short              Carmencita              Carmencita   \n",
       "1  tt0000002     short  Le clown et ses chiens  Le clown et ses chiens   \n",
       "2  tt0000003     short          Pauvre Pierrot          Pauvre Pierrot   \n",
       "\n",
       "  isAdult startYear endYear runtimeMinutes                    genres  \n",
       "0       0      1894      \\N              1         Documentary,Short  \n",
       "1       0      1892      \\N              5           Animation,Short  \n",
       "2       0      1892      \\N              4  Animation,Comedy,Romance  "
      ]
     },
     "execution_count": 5,
     "metadata": {},
     "output_type": "execute_result"
    }
   ],
   "source": [
    "basics.head(3)"
   ]
  },
  {
   "cell_type": "code",
   "execution_count": 6,
   "id": "floppy-equivalent",
   "metadata": {},
   "outputs": [
    {
     "data": {
      "text/html": [
       "<div>\n",
       "<style scoped>\n",
       "    .dataframe tbody tr th:only-of-type {\n",
       "        vertical-align: middle;\n",
       "    }\n",
       "\n",
       "    .dataframe tbody tr th {\n",
       "        vertical-align: top;\n",
       "    }\n",
       "\n",
       "    .dataframe thead th {\n",
       "        text-align: right;\n",
       "    }\n",
       "</style>\n",
       "<table border=\"1\" class=\"dataframe\">\n",
       "  <thead>\n",
       "    <tr style=\"text-align: right;\">\n",
       "      <th></th>\n",
       "      <th>tconst</th>\n",
       "      <th>averageRating</th>\n",
       "      <th>numVotes</th>\n",
       "    </tr>\n",
       "  </thead>\n",
       "  <tbody>\n",
       "    <tr>\n",
       "      <th>0</th>\n",
       "      <td>tt0000001</td>\n",
       "      <td>5.6</td>\n",
       "      <td>1693</td>\n",
       "    </tr>\n",
       "    <tr>\n",
       "      <th>1</th>\n",
       "      <td>tt0000002</td>\n",
       "      <td>6.0</td>\n",
       "      <td>210</td>\n",
       "    </tr>\n",
       "    <tr>\n",
       "      <th>2</th>\n",
       "      <td>tt0000003</td>\n",
       "      <td>6.5</td>\n",
       "      <td>1439</td>\n",
       "    </tr>\n",
       "  </tbody>\n",
       "</table>\n",
       "</div>"
      ],
      "text/plain": [
       "      tconst  averageRating  numVotes\n",
       "0  tt0000001            5.6      1693\n",
       "1  tt0000002            6.0       210\n",
       "2  tt0000003            6.5      1439"
      ]
     },
     "execution_count": 6,
     "metadata": {},
     "output_type": "execute_result"
    }
   ],
   "source": [
    "ratings.head(3)"
   ]
  },
  {
   "cell_type": "markdown",
   "id": "neural-surgeon",
   "metadata": {},
   "source": [
    "### Estraggo,correggo i titoli e li ordino in ordine alfabetico"
   ]
  },
  {
   "cell_type": "code",
   "execution_count": 7,
   "id": "extra-owner",
   "metadata": {},
   "outputs": [],
   "source": [
    "titoli_raw = list(set(netflix['name']))  # titoli così come sono nel database\n",
    "\n",
    "titoli = titoli_raw.copy()"
   ]
  },
  {
   "cell_type": "markdown",
   "id": "suitable-course",
   "metadata": {},
   "source": [
    "__In tutto ho 208 titoli.__\n",
    "Alcuni titoli nel database originario (contenuti in _titoli_raw_) sono scritti male, quindi li correggo. _titoli_raw_ conterrà i titoli originari, mentre _titoli_ i titoli corretti."
   ]
  },
  {
   "cell_type": "code",
   "execution_count": 8,
   "id": "august-corps",
   "metadata": {},
   "outputs": [
    {
     "name": "stdout",
     "output_type": "stream",
     "text": [
      "Ma Rainey&#39;s Black Bottom\n",
      "Dawson&#39;s Creek\n",
      "I&#39;m Not a Killer\n",
      "Finding &#39;Ohana\n",
      "So My Grandma&#39;s a Lesbian!\n",
      "The Queen&#39;s Gambit\n",
      "Don&#39;t Listen\n",
      "To All the Boys I&#39;ve Loved Before\n",
      "A Dog&#39;s Way Home\n"
     ]
    }
   ],
   "source": [
    "# Stampo i titoli scritti male (= con un apostrofo)\n",
    "\n",
    "for t in titoli_raw:\n",
    "    occ = re.compile('^.*&\\#39;.*$')\n",
    "    \n",
    "    if occ.match(t):\n",
    "        print(t)"
   ]
  },
  {
   "cell_type": "code",
   "execution_count": 9,
   "id": "suited-chuck",
   "metadata": {},
   "outputs": [],
   "source": [
    "# Correggo (in titoli) i titoli scritti male\n",
    "\n",
    "for t in titoli:\n",
    "    \n",
    "    occ = re.compile('(^.*)(\\&\\#39;)(.*$)')\n",
    "    found = occ.match(t)\n",
    "    \n",
    "    if found:\n",
    "        titoli.remove(t)\n",
    "        pulita = re.sub(r'(\\&\\#39;)',\"\\'\" ,t)\n",
    "        titoli.append(pulita)"
   ]
  },
  {
   "cell_type": "code",
   "execution_count": 10,
   "id": "subjective-modem",
   "metadata": {},
   "outputs": [],
   "source": [
    "# Ordino in ordine alfabetico\n",
    "\n",
    "titoli = sorted(titoli)\n",
    "titoli_raw = sorted(titoli_raw)"
   ]
  },
  {
   "cell_type": "markdown",
   "id": "aboriginal-shoulder",
   "metadata": {},
   "source": [
    "### Controllo i valori nulli\n",
    "Nel database netflix non ho valori nulli nella colonna imdb"
   ]
  },
  {
   "cell_type": "code",
   "execution_count": 11,
   "id": "expressed-determination",
   "metadata": {},
   "outputs": [
    {
     "data": {
      "text/html": [
       "<div>\n",
       "<style scoped>\n",
       "    .dataframe tbody tr th:only-of-type {\n",
       "        vertical-align: middle;\n",
       "    }\n",
       "\n",
       "    .dataframe tbody tr th {\n",
       "        vertical-align: top;\n",
       "    }\n",
       "\n",
       "    .dataframe thead th {\n",
       "        text-align: right;\n",
       "    }\n",
       "</style>\n",
       "<table border=\"1\" class=\"dataframe\">\n",
       "  <thead>\n",
       "    <tr style=\"text-align: right;\">\n",
       "      <th></th>\n",
       "      <th>result</th>\n",
       "      <th>id</th>\n",
       "      <th>name</th>\n",
       "      <th>url</th>\n",
       "      <th>imdb</th>\n",
       "      <th>tmdb</th>\n",
       "      <th>premiere</th>\n",
       "      <th>type_id</th>\n",
       "      <th>type</th>\n",
       "      <th>country_id</th>\n",
       "      <th>...</th>\n",
       "      <th>streaming</th>\n",
       "      <th>from</th>\n",
       "      <th>to</th>\n",
       "      <th>ranking</th>\n",
       "      <th>ranking_last</th>\n",
       "      <th>value</th>\n",
       "      <th>value_last</th>\n",
       "      <th>value_total</th>\n",
       "      <th>countries</th>\n",
       "      <th>days</th>\n",
       "    </tr>\n",
       "  </thead>\n",
       "  <tbody>\n",
       "  </tbody>\n",
       "</table>\n",
       "<p>0 rows × 29 columns</p>\n",
       "</div>"
      ],
      "text/plain": [
       "Empty DataFrame\n",
       "Columns: [result, id, name, url, imdb, tmdb, premiere, type_id, type, country_id, country, genre_id, genre, company_id, company, key, note, set, region, streaming, from, to, ranking, ranking_last, value, value_last, value_total, countries, days]\n",
       "Index: []\n",
       "\n",
       "[0 rows x 29 columns]"
      ]
     },
     "execution_count": 11,
     "metadata": {},
     "output_type": "execute_result"
    }
   ],
   "source": [
    "netflix[netflix['imdb'].isnull()]"
   ]
  },
  {
   "cell_type": "markdown",
   "id": "ambient-manufacturer",
   "metadata": {},
   "source": [
    "Neanche in ratings ho valori nulli nelle colonne averageRating e numVotes (quelle che ci interessano)"
   ]
  },
  {
   "cell_type": "code",
   "execution_count": 12,
   "id": "bulgarian-malpractice",
   "metadata": {},
   "outputs": [
    {
     "data": {
      "text/html": [
       "<div>\n",
       "<style scoped>\n",
       "    .dataframe tbody tr th:only-of-type {\n",
       "        vertical-align: middle;\n",
       "    }\n",
       "\n",
       "    .dataframe tbody tr th {\n",
       "        vertical-align: top;\n",
       "    }\n",
       "\n",
       "    .dataframe thead th {\n",
       "        text-align: right;\n",
       "    }\n",
       "</style>\n",
       "<table border=\"1\" class=\"dataframe\">\n",
       "  <thead>\n",
       "    <tr style=\"text-align: right;\">\n",
       "      <th></th>\n",
       "      <th>tconst</th>\n",
       "      <th>averageRating</th>\n",
       "      <th>numVotes</th>\n",
       "    </tr>\n",
       "  </thead>\n",
       "  <tbody>\n",
       "  </tbody>\n",
       "</table>\n",
       "</div>"
      ],
      "text/plain": [
       "Empty DataFrame\n",
       "Columns: [tconst, averageRating, numVotes]\n",
       "Index: []"
      ]
     },
     "execution_count": 12,
     "metadata": {},
     "output_type": "execute_result"
    }
   ],
   "source": [
    "ratings[ratings['averageRating'].isnull()]"
   ]
  },
  {
   "cell_type": "code",
   "execution_count": 13,
   "id": "minute-hebrew",
   "metadata": {},
   "outputs": [
    {
     "data": {
      "text/html": [
       "<div>\n",
       "<style scoped>\n",
       "    .dataframe tbody tr th:only-of-type {\n",
       "        vertical-align: middle;\n",
       "    }\n",
       "\n",
       "    .dataframe tbody tr th {\n",
       "        vertical-align: top;\n",
       "    }\n",
       "\n",
       "    .dataframe thead th {\n",
       "        text-align: right;\n",
       "    }\n",
       "</style>\n",
       "<table border=\"1\" class=\"dataframe\">\n",
       "  <thead>\n",
       "    <tr style=\"text-align: right;\">\n",
       "      <th></th>\n",
       "      <th>tconst</th>\n",
       "      <th>averageRating</th>\n",
       "      <th>numVotes</th>\n",
       "    </tr>\n",
       "  </thead>\n",
       "  <tbody>\n",
       "  </tbody>\n",
       "</table>\n",
       "</div>"
      ],
      "text/plain": [
       "Empty DataFrame\n",
       "Columns: [tconst, averageRating, numVotes]\n",
       "Index: []"
      ]
     },
     "execution_count": 13,
     "metadata": {},
     "output_type": "execute_result"
    }
   ],
   "source": [
    "ratings[ratings['numVotes'].isnull()]"
   ]
  },
  {
   "cell_type": "markdown",
   "id": "multiple-fabric",
   "metadata": {},
   "source": [
    "__Osservazione:__ Per 32 titoli non ho rating (bisogna metterli a mano).\n",
    "\n",
    "I titoli senza rating corrispondente nel database imdb vengono aggiunti alla lista _missing_"
   ]
  },
  {
   "cell_type": "code",
   "execution_count": 14,
   "id": "familiar-forth",
   "metadata": {},
   "outputs": [],
   "source": [
    "limit = len(titoli)"
   ]
  },
  {
   "cell_type": "code",
   "execution_count": 31,
   "id": "random-victorian",
   "metadata": {},
   "outputs": [],
   "source": [
    "missing = []\n",
    "\n",
    "for i in range(limit):\n",
    "    cod = 'tt' + str(netflix[netflix['name'] == titoli_raw[i]]['imdb'].iloc[0])\n",
    "    \n",
    "    df = ratings[ratings['tconst'] == cod]\n",
    "    \n",
    "    if len(df) == 0:\n",
    "        missing .append(titoli[i])\n",
    "    \n",
    "# print(len(missing))"
   ]
  },
  {
   "cell_type": "code",
   "execution_count": 32,
   "id": "textile-friendly",
   "metadata": {},
   "outputs": [
    {
     "data": {
      "text/plain": [
       "['Blow',\n",
       " 'Body of Lies',\n",
       " 'Charlie and the Chocolate Factory',\n",
       " 'Constantine',\n",
       " 'Corpse Bride',\n",
       " \"Dawson's Creek\",\n",
       " 'Dinner for Schmucks',\n",
       " 'Dracula Untold',\n",
       " 'Dumb and Dumber',\n",
       " 'Failure to Launch',\n",
       " 'Ghostbusters',\n",
       " 'How the Grinch Stole Christmas',\n",
       " 'Il Traditore',\n",
       " 'Jurassic World',\n",
       " 'Million Dollar Baby',\n",
       " 'Mr. Peabody & Sherman',\n",
       " 'Pet Sematary',\n",
       " 'Pride & Prejudice',\n",
       " 'Scarface',\n",
       " 'Searching for Bobby Fischer',\n",
       " 'Secret Magic Control Agency',\n",
       " 'Spider-Man',\n",
       " 'Spider-Man 2',\n",
       " 'Spider-Man 3',\n",
       " 'Sucker Punch',\n",
       " 'The 40 Year Old Virgin',\n",
       " 'The Big Bang Theory',\n",
       " 'The Goonies',\n",
       " 'The Pianist',\n",
       " 'The Texas Chainsaw Massacre',\n",
       " 'V for Vendetta',\n",
       " 'ariana grande: excuse me, i love you']"
      ]
     },
     "execution_count": 32,
     "metadata": {},
     "output_type": "execute_result"
    }
   ],
   "source": [
    "missing"
   ]
  },
  {
   "cell_type": "markdown",
   "id": "crazy-thumb",
   "metadata": {},
   "source": [
    "## Creazione del nuovo dataframe¶\n",
    "Usando la colonna imdb del database netflix, per ogni titolo estraggo l'id tconst."
   ]
  },
  {
   "cell_type": "code",
   "execution_count": 43,
   "id": "opening-sender",
   "metadata": {},
   "outputs": [],
   "source": [
    "# Dizionario che serve per creare il dataframe che ci interessa: titolo, anno, voto medio e numero dei voti\n",
    "\n",
    "Diz = {'Title': [], 'Average_rating' : [], 'Num_votes' : [], 'Type' : []}"
   ]
  },
  {
   "cell_type": "markdown",
   "id": "velvet-diameter",
   "metadata": {},
   "source": [
    "Aggiungo una colonna a __ratings_imdb__ : ogni riga vale 0 se è un film, 1 se è una serie."
   ]
  },
  {
   "cell_type": "code",
   "execution_count": 44,
   "id": "surface-theater",
   "metadata": {},
   "outputs": [
    {
     "data": {
      "text/plain": [
       "208"
      ]
     },
     "execution_count": 44,
     "metadata": {},
     "output_type": "execute_result"
    }
   ],
   "source": [
    "limit"
   ]
  },
  {
   "cell_type": "code",
   "execution_count": 45,
   "id": "welcome-night",
   "metadata": {},
   "outputs": [],
   "source": [
    "for i in range(limit): # limit = 208, il numero dei titoli\n",
    "    \n",
    "    t = titoli[i]\n",
    "    \n",
    "    Diz['Title'].append(t)\n",
    "    tipo = netflix[netflix['name'] == titoli_raw[i]]['type'].iloc[0]\n",
    "    \n",
    "    # Se è un film aggiungo 0\n",
    "    if tipo == \"Movie\":\n",
    "        Diz['Type'].append(0)\n",
    "        \n",
    "    # Se è una serie tv aggiungo 1\n",
    "    else:\n",
    "        Diz['Type'].append(1)\n",
    "        \n",
    "    if t not in missing:\n",
    "        \n",
    "        # Codice imdb estratto dal db netflix (a cui aggiungere 'tt')\n",
    "        codice_imdb = 'tt' + str(netflix[netflix['name'] == titoli_raw[i]]['imdb'].iloc[0])\n",
    "        \n",
    "        # Risultato della ricerca nel db ratings del codice del titolo\n",
    "        df = ratings[ratings['tconst'] == codice_imdb]\n",
    "        \n",
    "        Diz['Average_rating'].append(df['averageRating'].iloc[0])\n",
    "        Diz['Num_votes'].append(df['numVotes'].iloc[0])\n",
    "    \n",
    "    # Per i titoli che non si trovano nel db\n",
    "    else:\n",
    "        Diz['Average_rating'].append('NaN')\n",
    "        Diz['Num_votes'].append('NaN')"
   ]
  },
  {
   "cell_type": "markdown",
   "id": "competent-authentication",
   "metadata": {},
   "source": [
    "Creo il dataframe __ratings_imdb__"
   ]
  },
  {
   "cell_type": "code",
   "execution_count": 46,
   "id": "hidden-certification",
   "metadata": {},
   "outputs": [],
   "source": [
    "ratings_imdb = pd.DataFrame(data = Diz)"
   ]
  },
  {
   "cell_type": "code",
   "execution_count": 47,
   "id": "loved-tolerance",
   "metadata": {},
   "outputs": [
    {
     "data": {
      "text/html": [
       "<div>\n",
       "<style scoped>\n",
       "    .dataframe tbody tr th:only-of-type {\n",
       "        vertical-align: middle;\n",
       "    }\n",
       "\n",
       "    .dataframe tbody tr th {\n",
       "        vertical-align: top;\n",
       "    }\n",
       "\n",
       "    .dataframe thead th {\n",
       "        text-align: right;\n",
       "    }\n",
       "</style>\n",
       "<table border=\"1\" class=\"dataframe\">\n",
       "  <thead>\n",
       "    <tr style=\"text-align: right;\">\n",
       "      <th></th>\n",
       "      <th>Title</th>\n",
       "      <th>Average_rating</th>\n",
       "      <th>Num_votes</th>\n",
       "      <th>Type</th>\n",
       "    </tr>\n",
       "  </thead>\n",
       "  <tbody>\n",
       "    <tr>\n",
       "      <th>0</th>\n",
       "      <td>365 Days</td>\n",
       "      <td>3.2</td>\n",
       "      <td>54757</td>\n",
       "      <td>0</td>\n",
       "    </tr>\n",
       "    <tr>\n",
       "      <th>1</th>\n",
       "      <td>5 Is the Perfect Number</td>\n",
       "      <td>5.3</td>\n",
       "      <td>1075</td>\n",
       "      <td>0</td>\n",
       "    </tr>\n",
       "    <tr>\n",
       "      <th>2</th>\n",
       "      <td>A California Christmas</td>\n",
       "      <td>5.7</td>\n",
       "      <td>6543</td>\n",
       "      <td>0</td>\n",
       "    </tr>\n",
       "    <tr>\n",
       "      <th>3</th>\n",
       "      <td>A Dog's Way Home</td>\n",
       "      <td>6.7</td>\n",
       "      <td>15319</td>\n",
       "      <td>0</td>\n",
       "    </tr>\n",
       "    <tr>\n",
       "      <th>4</th>\n",
       "      <td>A Star is Born</td>\n",
       "      <td>7.6</td>\n",
       "      <td>340182</td>\n",
       "      <td>0</td>\n",
       "    </tr>\n",
       "    <tr>\n",
       "      <th>...</th>\n",
       "      <td>...</td>\n",
       "      <td>...</td>\n",
       "      <td>...</td>\n",
       "      <td>...</td>\n",
       "    </tr>\n",
       "    <tr>\n",
       "      <th>203</th>\n",
       "      <td>Yes Man</td>\n",
       "      <td>6.8</td>\n",
       "      <td>337907</td>\n",
       "      <td>0</td>\n",
       "    </tr>\n",
       "    <tr>\n",
       "      <th>204</th>\n",
       "      <td>You vs. Wild</td>\n",
       "      <td>6.7</td>\n",
       "      <td>2204</td>\n",
       "      <td>1</td>\n",
       "    </tr>\n",
       "    <tr>\n",
       "      <th>205</th>\n",
       "      <td>Zero Chill</td>\n",
       "      <td>5.6</td>\n",
       "      <td>630</td>\n",
       "      <td>1</td>\n",
       "    </tr>\n",
       "    <tr>\n",
       "      <th>206</th>\n",
       "      <td>ariana grande: excuse me, i love you</td>\n",
       "      <td>NaN</td>\n",
       "      <td>NaN</td>\n",
       "      <td>0</td>\n",
       "    </tr>\n",
       "    <tr>\n",
       "      <th>207</th>\n",
       "      <td>iZombie</td>\n",
       "      <td>7.8</td>\n",
       "      <td>60810</td>\n",
       "      <td>1</td>\n",
       "    </tr>\n",
       "  </tbody>\n",
       "</table>\n",
       "<p>208 rows × 4 columns</p>\n",
       "</div>"
      ],
      "text/plain": [
       "                                    Title Average_rating Num_votes  Type\n",
       "0                                365 Days            3.2     54757     0\n",
       "1                 5 Is the Perfect Number            5.3      1075     0\n",
       "2                  A California Christmas            5.7      6543     0\n",
       "3                        A Dog's Way Home            6.7     15319     0\n",
       "4                          A Star is Born            7.6    340182     0\n",
       "..                                    ...            ...       ...   ...\n",
       "203                               Yes Man            6.8    337907     0\n",
       "204                          You vs. Wild            6.7      2204     1\n",
       "205                            Zero Chill            5.6       630     1\n",
       "206  ariana grande: excuse me, i love you            NaN       NaN     0\n",
       "207                               iZombie            7.8     60810     1\n",
       "\n",
       "[208 rows x 4 columns]"
      ]
     },
     "execution_count": 47,
     "metadata": {},
     "output_type": "execute_result"
    }
   ],
   "source": [
    "ratings_imdb"
   ]
  },
  {
   "cell_type": "markdown",
   "id": "other-artwork",
   "metadata": {},
   "source": [
    "## Titoli senza rating\n",
    "\n",
    "Aggiungo a mano il rating e il numero dei votanti"
   ]
  },
  {
   "cell_type": "code",
   "execution_count": 50,
   "id": "present-embassy",
   "metadata": {},
   "outputs": [],
   "source": [
    "# Così modifico una cella del database\n",
    "# ratings_imdb.iloc[24]['Average_rating'] = 7.6"
   ]
  },
  {
   "cell_type": "code",
   "execution_count": 51,
   "id": "prerequisite-villa",
   "metadata": {},
   "outputs": [
    {
     "data": {
      "text/html": [
       "<div>\n",
       "<style scoped>\n",
       "    .dataframe tbody tr th:only-of-type {\n",
       "        vertical-align: middle;\n",
       "    }\n",
       "\n",
       "    .dataframe tbody tr th {\n",
       "        vertical-align: top;\n",
       "    }\n",
       "\n",
       "    .dataframe thead th {\n",
       "        text-align: right;\n",
       "    }\n",
       "</style>\n",
       "<table border=\"1\" class=\"dataframe\">\n",
       "  <thead>\n",
       "    <tr style=\"text-align: right;\">\n",
       "      <th></th>\n",
       "      <th>Title</th>\n",
       "      <th>Average_rating</th>\n",
       "      <th>Num_votes</th>\n",
       "      <th>Type</th>\n",
       "    </tr>\n",
       "  </thead>\n",
       "  <tbody>\n",
       "    <tr>\n",
       "      <th>10</th>\n",
       "      <td>Alien Worlds</td>\n",
       "      <td>6.5</td>\n",
       "      <td>2683</td>\n",
       "      <td>1</td>\n",
       "    </tr>\n",
       "    <tr>\n",
       "      <th>11</th>\n",
       "      <td>All My Friends Are Dead</td>\n",
       "      <td>5.8</td>\n",
       "      <td>4265</td>\n",
       "      <td>0</td>\n",
       "    </tr>\n",
       "    <tr>\n",
       "      <th>12</th>\n",
       "      <td>Animals on the Loose: A You vs. Wild Interacti...</td>\n",
       "      <td>5.9</td>\n",
       "      <td>626</td>\n",
       "      <td>0</td>\n",
       "    </tr>\n",
       "    <tr>\n",
       "      <th>13</th>\n",
       "      <td>As Above, So Below</td>\n",
       "      <td>6.2</td>\n",
       "      <td>79524</td>\n",
       "      <td>0</td>\n",
       "    </tr>\n",
       "    <tr>\n",
       "      <th>14</th>\n",
       "      <td>Asphalt Burning</td>\n",
       "      <td>5.1</td>\n",
       "      <td>1710</td>\n",
       "      <td>0</td>\n",
       "    </tr>\n",
       "    <tr>\n",
       "      <th>15</th>\n",
       "      <td>Ava</td>\n",
       "      <td>5.4</td>\n",
       "      <td>42264</td>\n",
       "      <td>0</td>\n",
       "    </tr>\n",
       "    <tr>\n",
       "      <th>16</th>\n",
       "      <td>Bad Trip</td>\n",
       "      <td>6.6</td>\n",
       "      <td>6715</td>\n",
       "      <td>0</td>\n",
       "    </tr>\n",
       "    <tr>\n",
       "      <th>17</th>\n",
       "      <td>Behind Her Eyes</td>\n",
       "      <td>7.2</td>\n",
       "      <td>32779</td>\n",
       "      <td>1</td>\n",
       "    </tr>\n",
       "    <tr>\n",
       "      <th>18</th>\n",
       "      <td>Belleville Cop</td>\n",
       "      <td>4.8</td>\n",
       "      <td>1906</td>\n",
       "      <td>0</td>\n",
       "    </tr>\n",
       "    <tr>\n",
       "      <th>19</th>\n",
       "      <td>Below Zero</td>\n",
       "      <td>6.2</td>\n",
       "      <td>13567</td>\n",
       "      <td>0</td>\n",
       "    </tr>\n",
       "    <tr>\n",
       "      <th>20</th>\n",
       "      <td>Big Mouth</td>\n",
       "      <td>8.0</td>\n",
       "      <td>58342</td>\n",
       "      <td>1</td>\n",
       "    </tr>\n",
       "    <tr>\n",
       "      <th>21</th>\n",
       "      <td>Biggie: I Got a Story to Tell</td>\n",
       "      <td>6.9</td>\n",
       "      <td>3284</td>\n",
       "      <td>0</td>\n",
       "    </tr>\n",
       "    <tr>\n",
       "      <th>22</th>\n",
       "      <td>Black Beach</td>\n",
       "      <td>5.6</td>\n",
       "      <td>1134</td>\n",
       "      <td>0</td>\n",
       "    </tr>\n",
       "    <tr>\n",
       "      <th>23</th>\n",
       "      <td>Blood Brother</td>\n",
       "      <td>4.4</td>\n",
       "      <td>820</td>\n",
       "      <td>0</td>\n",
       "    </tr>\n",
       "    <tr>\n",
       "      <th>24</th>\n",
       "      <td>Blow</td>\n",
       "      <td>NaN</td>\n",
       "      <td>NaN</td>\n",
       "      <td>0</td>\n",
       "    </tr>\n",
       "    <tr>\n",
       "      <th>25</th>\n",
       "      <td>Body of Lies</td>\n",
       "      <td>NaN</td>\n",
       "      <td>NaN</td>\n",
       "      <td>0</td>\n",
       "    </tr>\n",
       "    <tr>\n",
       "      <th>26</th>\n",
       "      <td>Bonding</td>\n",
       "      <td>7.2</td>\n",
       "      <td>13456</td>\n",
       "      <td>1</td>\n",
       "    </tr>\n",
       "    <tr>\n",
       "      <th>27</th>\n",
       "      <td>Break</td>\n",
       "      <td>4.5</td>\n",
       "      <td>1456</td>\n",
       "      <td>0</td>\n",
       "    </tr>\n",
       "    <tr>\n",
       "      <th>28</th>\n",
       "      <td>Bridgerton</td>\n",
       "      <td>7.3</td>\n",
       "      <td>70844</td>\n",
       "      <td>1</td>\n",
       "    </tr>\n",
       "    <tr>\n",
       "      <th>29</th>\n",
       "      <td>Brooklyn Nine-Nine</td>\n",
       "      <td>8.4</td>\n",
       "      <td>231398</td>\n",
       "      <td>1</td>\n",
       "    </tr>\n",
       "  </tbody>\n",
       "</table>\n",
       "</div>"
      ],
      "text/plain": [
       "                                                Title Average_rating  \\\n",
       "10                                       Alien Worlds            6.5   \n",
       "11                            All My Friends Are Dead            5.8   \n",
       "12  Animals on the Loose: A You vs. Wild Interacti...            5.9   \n",
       "13                                 As Above, So Below            6.2   \n",
       "14                                    Asphalt Burning            5.1   \n",
       "15                                                Ava            5.4   \n",
       "16                                           Bad Trip            6.6   \n",
       "17                                    Behind Her Eyes            7.2   \n",
       "18                                     Belleville Cop            4.8   \n",
       "19                                         Below Zero            6.2   \n",
       "20                                          Big Mouth            8.0   \n",
       "21                      Biggie: I Got a Story to Tell            6.9   \n",
       "22                                        Black Beach            5.6   \n",
       "23                                      Blood Brother            4.4   \n",
       "24                                               Blow            NaN   \n",
       "25                                       Body of Lies            NaN   \n",
       "26                                            Bonding            7.2   \n",
       "27                                              Break            4.5   \n",
       "28                                         Bridgerton            7.3   \n",
       "29                                 Brooklyn Nine-Nine            8.4   \n",
       "\n",
       "   Num_votes  Type  \n",
       "10      2683     1  \n",
       "11      4265     0  \n",
       "12       626     0  \n",
       "13     79524     0  \n",
       "14      1710     0  \n",
       "15     42264     0  \n",
       "16      6715     0  \n",
       "17     32779     1  \n",
       "18      1906     0  \n",
       "19     13567     0  \n",
       "20     58342     1  \n",
       "21      3284     0  \n",
       "22      1134     0  \n",
       "23       820     0  \n",
       "24       NaN     0  \n",
       "25       NaN     0  \n",
       "26     13456     1  \n",
       "27      1456     0  \n",
       "28     70844     1  \n",
       "29    231398     1  "
      ]
     },
     "execution_count": 51,
     "metadata": {},
     "output_type": "execute_result"
    }
   ],
   "source": [
    "ratings_imdb.iloc[10:30]"
   ]
  },
  {
   "cell_type": "markdown",
   "id": "disabled-pillow",
   "metadata": {},
   "source": [
    "### Esporto il dataframe in un csv"
   ]
  },
  {
   "cell_type": "code",
   "execution_count": 53,
   "id": "tamil-street",
   "metadata": {},
   "outputs": [],
   "source": [
    "ratings_imdb.to_csv(\"Data_flixpatrol/Dati_netflix_dicembre-aprile/ratings_imdb_dic-mar2021.csv\")"
   ]
  },
  {
   "cell_type": "code",
   "execution_count": null,
   "id": "intimate-wrestling",
   "metadata": {},
   "outputs": [],
   "source": []
  }
 ],
 "metadata": {
  "kernelspec": {
   "display_name": "Python 3",
   "language": "python",
   "name": "python3"
  },
  "language_info": {
   "codemirror_mode": {
    "name": "ipython",
    "version": 3
   },
   "file_extension": ".py",
   "mimetype": "text/x-python",
   "name": "python",
   "nbconvert_exporter": "python",
   "pygments_lexer": "ipython3",
   "version": "3.8.5"
  }
 },
 "nbformat": 4,
 "nbformat_minor": 5
}
