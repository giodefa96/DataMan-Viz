{
 "cells": [
  {
   "cell_type": "markdown",
   "id": "affiliated-occasion",
   "metadata": {},
   "source": [
    "## Per i 5 titoli più visti raccolgo i dati relativi alla popolarità nel corso di Dicembre, Gennaio, Febbraio e Marzo.\n",
    "\n",
    "Le 5 serie più viste sono: Bridgerton, The Queen's Gambit (La regina degli scacchi), Lupin, Ginny and Georgia e New amsterdam."
   ]
  },
  {
   "cell_type": "code",
   "execution_count": 1,
   "id": "light-threat",
   "metadata": {},
   "outputs": [],
   "source": [
    "import pandas as pd"
   ]
  },
  {
   "cell_type": "code",
   "execution_count": 2,
   "id": "failing-concord",
   "metadata": {},
   "outputs": [],
   "source": [
    "diz = {'Titolo' : ['Bridgerton', \"The Queen's Gambit\", 'Lupin', 'Ginny & Georgia', 'New Amsterdam'], \n",
    "       'Indice_generale' :  [0.400826, 0.310744, 0.281818, 0.259504, 0.216529],\n",
    "       'Indice_tipo' : [0.462810, 0.432231, 0.340496, 0.266942, 0.247934]}\n",
    "\n",
    "top5 = pd.DataFrame(data = diz)"
   ]
  },
  {
   "cell_type": "code",
   "execution_count": 3,
   "id": "molecular-database",
   "metadata": {},
   "outputs": [],
   "source": [
    "top5['Popolarita'] = top5['Indice_generale'] + top5['Indice_tipo']"
   ]
  },
  {
   "cell_type": "code",
   "execution_count": 4,
   "id": "authentic-designation",
   "metadata": {},
   "outputs": [
    {
     "data": {
      "text/html": [
       "<div>\n",
       "<style scoped>\n",
       "    .dataframe tbody tr th:only-of-type {\n",
       "        vertical-align: middle;\n",
       "    }\n",
       "\n",
       "    .dataframe tbody tr th {\n",
       "        vertical-align: top;\n",
       "    }\n",
       "\n",
       "    .dataframe thead th {\n",
       "        text-align: right;\n",
       "    }\n",
       "</style>\n",
       "<table border=\"1\" class=\"dataframe\">\n",
       "  <thead>\n",
       "    <tr style=\"text-align: right;\">\n",
       "      <th></th>\n",
       "      <th>Titolo</th>\n",
       "      <th>Indice_generale</th>\n",
       "      <th>Indice_tipo</th>\n",
       "      <th>Popolarita</th>\n",
       "    </tr>\n",
       "  </thead>\n",
       "  <tbody>\n",
       "    <tr>\n",
       "      <th>0</th>\n",
       "      <td>Bridgerton</td>\n",
       "      <td>0.400826</td>\n",
       "      <td>0.462810</td>\n",
       "      <td>0.863636</td>\n",
       "    </tr>\n",
       "    <tr>\n",
       "      <th>1</th>\n",
       "      <td>The Queen's Gambit</td>\n",
       "      <td>0.310744</td>\n",
       "      <td>0.432231</td>\n",
       "      <td>0.742975</td>\n",
       "    </tr>\n",
       "    <tr>\n",
       "      <th>2</th>\n",
       "      <td>Lupin</td>\n",
       "      <td>0.281818</td>\n",
       "      <td>0.340496</td>\n",
       "      <td>0.622314</td>\n",
       "    </tr>\n",
       "    <tr>\n",
       "      <th>3</th>\n",
       "      <td>Ginny &amp; Georgia</td>\n",
       "      <td>0.259504</td>\n",
       "      <td>0.266942</td>\n",
       "      <td>0.526446</td>\n",
       "    </tr>\n",
       "    <tr>\n",
       "      <th>4</th>\n",
       "      <td>New Amsterdam</td>\n",
       "      <td>0.216529</td>\n",
       "      <td>0.247934</td>\n",
       "      <td>0.464463</td>\n",
       "    </tr>\n",
       "  </tbody>\n",
       "</table>\n",
       "</div>"
      ],
      "text/plain": [
       "               Titolo  Indice_generale  Indice_tipo  Popolarita\n",
       "0          Bridgerton         0.400826     0.462810    0.863636\n",
       "1  The Queen's Gambit         0.310744     0.432231    0.742975\n",
       "2               Lupin         0.281818     0.340496    0.622314\n",
       "3     Ginny & Georgia         0.259504     0.266942    0.526446\n",
       "4       New Amsterdam         0.216529     0.247934    0.464463"
      ]
     },
     "execution_count": 4,
     "metadata": {},
     "output_type": "execute_result"
    }
   ],
   "source": [
    "top5"
   ]
  },
  {
   "cell_type": "markdown",
   "id": "compatible-humidity",
   "metadata": {},
   "source": [
    "### Leggo il dataset di flixpatrol"
   ]
  },
  {
   "cell_type": "code",
   "execution_count": 5,
   "id": "suitable-kuwait",
   "metadata": {},
   "outputs": [],
   "source": [
    "netflix = pd.read_csv(\"Variety/Data_flixpatrol/Dati_netflix_dicembre-aprile/netflix_dic-mar2021.csv\", index_col = 0)"
   ]
  },
  {
   "cell_type": "code",
   "execution_count": 6,
   "id": "vietnamese-township",
   "metadata": {},
   "outputs": [
    {
     "data": {
      "text/plain": [
       "3630"
      ]
     },
     "execution_count": 6,
     "metadata": {},
     "output_type": "execute_result"
    }
   ],
   "source": [
    "len(netflix)"
   ]
  },
  {
   "cell_type": "markdown",
   "id": "unknown-occurrence",
   "metadata": {},
   "source": [
    "Divido il dataset netflix in __quattro dataset__ separati per i quattro mesi di Dicembre, Gennaio, Febbraio e Marzo."
   ]
  },
  {
   "cell_type": "code",
   "execution_count": 7,
   "id": "controversial-married",
   "metadata": {},
   "outputs": [],
   "source": [
    "# Dicembre\n",
    "\n",
    "dic = netflix.iloc[:930].copy()  # di dimensione 30*31 = 930 righe"
   ]
  },
  {
   "cell_type": "code",
   "execution_count": 8,
   "id": "egyptian-stocks",
   "metadata": {},
   "outputs": [],
   "source": [
    "# Gennaio\n",
    "\n",
    "genn = netflix.iloc[930:1860].copy() # di dimensioni 30*31 righe"
   ]
  },
  {
   "cell_type": "code",
   "execution_count": 9,
   "id": "combined-animal",
   "metadata": {},
   "outputs": [],
   "source": [
    "# Febbraio\n",
    "\n",
    "febb = netflix.iloc[1860: 2700].copy()"
   ]
  },
  {
   "cell_type": "code",
   "execution_count": 10,
   "id": "local-darwin",
   "metadata": {},
   "outputs": [],
   "source": [
    "# Marzo\n",
    "\n",
    "mar = netflix.iloc[2700:].copy()"
   ]
  },
  {
   "cell_type": "markdown",
   "id": "preceding-schedule",
   "metadata": {},
   "source": [
    "Nella colonna __set__ abbiamo:\n",
    "* 1 = classifica generale (result, il posto sul podio delle top 10, compreso tra 1 e 10)\n",
    "* 2 = classifica film (result compreso tra 11 e 20)\n",
    "* 3 = classifica serie tv (result compreso tra 21 e 30)\n",
    "\n",
    "La colonna __ranking__ dà proprio il posto sul podio."
   ]
  },
  {
   "cell_type": "markdown",
   "id": "infectious-judges",
   "metadata": {},
   "source": [
    "## Calcolo i due indici di popolarità per tutta la lista e per tutti i mesi.\n",
    "\n",
    "__Osservazione :__ tutti e cinque i titoli sono serie tv."
   ]
  },
  {
   "cell_type": "code",
   "execution_count": 11,
   "id": "copyrighted-depth",
   "metadata": {},
   "outputs": [
    {
     "data": {
      "text/plain": [
       "'The Queen&#39;s Gambit'"
      ]
     },
     "execution_count": 11,
     "metadata": {},
     "output_type": "execute_result"
    }
   ],
   "source": [
    "netflix.iloc[0]['name']"
   ]
  },
  {
   "cell_type": "code",
   "execution_count": 12,
   "id": "robust-marble",
   "metadata": {},
   "outputs": [],
   "source": [
    "l = ['Bridgerton', 'The Queen&#39;s Gambit', 'Lupin', 'Ginny & Georgia', 'New Amsterdam']"
   ]
  },
  {
   "cell_type": "code",
   "execution_count": 13,
   "id": "phantom-stadium",
   "metadata": {},
   "outputs": [],
   "source": [
    "dati = {'Titolo' : ['Bridgerton', \"The Queen's Gambit\", 'Lupin', 'Ginny & Georgia', 'New Amsterdam'],\n",
    "        'Premiere' : ['25.12.2020', '23.10.2020', '8.1.20201', '24.2.2021', 'Febbraio 2021'],\n",
    "        'Indice gen dicembre' : [], 'Indice tipo dicembre' : [],\n",
    "        'Indice gen gennaio' : [], 'Indice tipo gennaio' : [],\n",
    "        'Indice gen febbraio' : [], 'Indice tipo febbraio' : [],\n",
    "        'Indice gen marzo' : [], 'Indice tipo marzo' : []}\n"
   ]
  },
  {
   "cell_type": "markdown",
   "id": "assisted-interview",
   "metadata": {},
   "source": [
    "Dicembre:"
   ]
  },
  {
   "cell_type": "code",
   "execution_count": 14,
   "id": "pacific-producer",
   "metadata": {},
   "outputs": [],
   "source": [
    "num_giorni = 31 # per dicembre"
   ]
  },
  {
   "cell_type": "code",
   "execution_count": 15,
   "id": "bibliographic-beauty",
   "metadata": {},
   "outputs": [],
   "source": [
    "# Calcolo indice generale e indice tipo di DICEMBRE per tutti e 5 i titoli\n",
    "\n",
    "for i in range(len(l)):\n",
    "    \n",
    "    # Questo df ha per ogni riga un giorno in cui il titolo l[i] è stato in una delle due classifiche\n",
    "    df = dic[dic['name'] == l[i]].copy() \n",
    "\n",
    "    # Calcolo indice generale di dicembre per il titoli l[i]\n",
    "    indice = 0\n",
    "    \n",
    "    for r in df[df['set'] == 1]['ranking']:\n",
    "        indice = indice + 10 - (r-1)\n",
    "    \n",
    "    indice = indice/(10*num_giorni)\n",
    "    \n",
    "    # Metto l'indice appena calcolato nel dizionario (dataframe) con i dati\n",
    "    dati['Indice gen dicembre'].append(indice)\n",
    "    \n",
    "    # Calcolo indice tipo (indice relativo solo alla classifica delle serie tv) per il titolo l[i]  a dicembre\n",
    "    indice = 0\n",
    "\n",
    "    for r in df[df['set'] == 3]['ranking']:\n",
    "        indice = indice + 10 - (r-1)\n",
    "        \n",
    "    indice = indice/(10*num_giorni)\n",
    "    \n",
    "    # Metto l'indice appena calcolato nel dizionario (dataframe) con i dati\n",
    "    dati['Indice tipo dicembre'].append(indice)"
   ]
  },
  {
   "cell_type": "markdown",
   "id": "charged-polymer",
   "metadata": {},
   "source": [
    "Gennaio:"
   ]
  },
  {
   "cell_type": "code",
   "execution_count": 16,
   "id": "unknown-playlist",
   "metadata": {},
   "outputs": [],
   "source": [
    "# Calcolo indice generale e indice tipo di GENNAIO per tutti e 5 i titoli\n",
    "\n",
    "num_giorni = 31 # per gennaio\n",
    "\n",
    "for i in range(len(l)):\n",
    "    \n",
    "    # Questo df ha per ogni riga un giorno in cui il titolo l[i] è stato in una delle due classifiche\n",
    "    df = genn[genn['name'] == l[i]].copy() \n",
    "\n",
    "    # Calcolo indice generale per il titoli l[i]\n",
    "    indice = 0\n",
    "    \n",
    "    for r in df[df['set'] == 1]['ranking']:\n",
    "        indice = indice + 10 - (r-1)\n",
    "    \n",
    "    indice = indice/(10*num_giorni)\n",
    "    \n",
    "    # Metto l'indice appena calcolato nel dizionario (dataframe) con i dati\n",
    "    dati['Indice gen gennaio'].append(indice)\n",
    "    \n",
    "    # Calcolo indice tipo (indice relativo solo alla classifica delle serie tv) per il titolo l[i]\n",
    "    indice = 0\n",
    "\n",
    "    for r in df[df['set'] == 3]['ranking']:\n",
    "        indice = indice + 10 - (r-1)\n",
    "        \n",
    "    indice = indice/(10*num_giorni)\n",
    "    \n",
    "    # Metto l'indice appena calcolato nel dizionario (dataframe) con i dati\n",
    "    dati['Indice tipo gennaio'].append(indice)"
   ]
  },
  {
   "cell_type": "markdown",
   "id": "least-ordering",
   "metadata": {},
   "source": [
    "Febbraio:"
   ]
  },
  {
   "cell_type": "code",
   "execution_count": 17,
   "id": "democratic-capacity",
   "metadata": {},
   "outputs": [],
   "source": [
    "# Calcolo indice generale e indice tipo di FEBBRAIO per tutti e 5 i titoli\n",
    "\n",
    "num_giorni = 28 # per febbraio\n",
    "\n",
    "for i in range(len(l)):\n",
    "    \n",
    "    # Questo df ha per ogni riga un giorno in cui il titolo l[i] è stato in una delle due classifiche\n",
    "    df = febb[febb['name'] == l[i]].copy() \n",
    "\n",
    "    # Calcolo indice generale per il titoli l[i]\n",
    "    indice = 0\n",
    "    \n",
    "    for r in df[df['set'] == 1]['ranking']:\n",
    "        indice = indice + 10 - (r-1)\n",
    "    \n",
    "    indice = indice/(10*num_giorni)\n",
    "    \n",
    "    # Metto l'indice appena calcolato nel dizionario (dataframe) con i dati\n",
    "    dati['Indice gen febbraio'].append(indice)\n",
    "    \n",
    "    # Calcolo indice tipo (indice relativo solo alla classifica delle serie tv) per il titolo l[i]\n",
    "    indice = 0\n",
    "\n",
    "    for r in df[df['set'] == 3]['ranking']:\n",
    "        indice = indice + 10 - (r-1)\n",
    "        \n",
    "    indice = indice/(10*num_giorni)\n",
    "    \n",
    "    # Metto l'indice appena calcolato nel dizionario (dataframe) con i dati\n",
    "    dati['Indice tipo febbraio'].append(indice)"
   ]
  },
  {
   "cell_type": "markdown",
   "id": "signed-academy",
   "metadata": {},
   "source": [
    "Marzo:"
   ]
  },
  {
   "cell_type": "code",
   "execution_count": 18,
   "id": "filled-location",
   "metadata": {},
   "outputs": [],
   "source": [
    "# Calcolo indice generale e indice tipo di MARZO per tutti e 5 i titoli\n",
    "\n",
    "num_giorni = 31 # per marzo\n",
    "\n",
    "for i in range(len(l)):\n",
    "    \n",
    "    # Questo df ha per ogni riga un giorno in cui il titolo l[i] è stato in una delle due classifiche\n",
    "    df = mar[mar['name'] == l[i]].copy() \n",
    "\n",
    "    # Calcolo indice generale per il titoli l[i]\n",
    "    indice = 0\n",
    "    \n",
    "    for r in df[df['set'] == 1]['ranking']:\n",
    "        indice = indice + 10 - (r-1)\n",
    "    \n",
    "    indice = indice/(10*num_giorni)\n",
    "    \n",
    "    # Metto l'indice appena calcolato nel dizionario (dataframe) con i dati\n",
    "    dati['Indice gen marzo'].append(indice)\n",
    "    \n",
    "    # Calcolo indice tipo (indice relativo solo alla classifica delle serie tv) per il titolo l[i]\n",
    "    indice = 0\n",
    "\n",
    "    for r in df[df['set'] == 3]['ranking']:\n",
    "        indice = indice + 10 - (r-1)\n",
    "        \n",
    "    indice = indice/(10*num_giorni)\n",
    "    \n",
    "    # Metto l'indice appena calcolato nel dizionario (dataframe) con i dati\n",
    "    dati['Indice tipo marzo'].append(indice)"
   ]
  },
  {
   "cell_type": "markdown",
   "id": "obvious-avenue",
   "metadata": {},
   "source": [
    "Creazione dataframe:"
   ]
  },
  {
   "cell_type": "code",
   "execution_count": 19,
   "id": "weird-harris",
   "metadata": {},
   "outputs": [],
   "source": [
    "top5_storiche = pd.DataFrame(data = dati)"
   ]
  },
  {
   "cell_type": "code",
   "execution_count": 20,
   "id": "infectious-capital",
   "metadata": {},
   "outputs": [
    {
     "data": {
      "text/html": [
       "<div>\n",
       "<style scoped>\n",
       "    .dataframe tbody tr th:only-of-type {\n",
       "        vertical-align: middle;\n",
       "    }\n",
       "\n",
       "    .dataframe tbody tr th {\n",
       "        vertical-align: top;\n",
       "    }\n",
       "\n",
       "    .dataframe thead th {\n",
       "        text-align: right;\n",
       "    }\n",
       "</style>\n",
       "<table border=\"1\" class=\"dataframe\">\n",
       "  <thead>\n",
       "    <tr style=\"text-align: right;\">\n",
       "      <th></th>\n",
       "      <th>Titolo</th>\n",
       "      <th>Premiere</th>\n",
       "      <th>Indice gen dicembre</th>\n",
       "      <th>Indice tipo dicembre</th>\n",
       "      <th>Indice gen gennaio</th>\n",
       "      <th>Indice tipo gennaio</th>\n",
       "      <th>Indice gen febbraio</th>\n",
       "      <th>Indice tipo febbraio</th>\n",
       "      <th>Indice gen marzo</th>\n",
       "      <th>Indice tipo marzo</th>\n",
       "    </tr>\n",
       "  </thead>\n",
       "  <tbody>\n",
       "    <tr>\n",
       "      <th>0</th>\n",
       "      <td>Bridgerton</td>\n",
       "      <td>25.12.2020</td>\n",
       "      <td>0.187097</td>\n",
       "      <td>0.193548</td>\n",
       "      <td>0.883871</td>\n",
       "      <td>0.896774</td>\n",
       "      <td>0.539286</td>\n",
       "      <td>0.710714</td>\n",
       "      <td>0.006452</td>\n",
       "      <td>0.074194</td>\n",
       "    </tr>\n",
       "    <tr>\n",
       "      <th>1</th>\n",
       "      <td>The Queen's Gambit</td>\n",
       "      <td>23.10.2020</td>\n",
       "      <td>0.796774</td>\n",
       "      <td>0.906452</td>\n",
       "      <td>0.409677</td>\n",
       "      <td>0.593548</td>\n",
       "      <td>0.007143</td>\n",
       "      <td>0.207143</td>\n",
       "      <td>0.000000</td>\n",
       "      <td>0.000000</td>\n",
       "    </tr>\n",
       "    <tr>\n",
       "      <th>2</th>\n",
       "      <td>Lupin</td>\n",
       "      <td>8.1.20201</td>\n",
       "      <td>0.000000</td>\n",
       "      <td>0.000000</td>\n",
       "      <td>0.706452</td>\n",
       "      <td>0.712903</td>\n",
       "      <td>0.432143</td>\n",
       "      <td>0.639286</td>\n",
       "      <td>0.003226</td>\n",
       "      <td>0.038710</td>\n",
       "    </tr>\n",
       "    <tr>\n",
       "      <th>3</th>\n",
       "      <td>Ginny &amp; Georgia</td>\n",
       "      <td>24.2.2021</td>\n",
       "      <td>0.000000</td>\n",
       "      <td>0.000000</td>\n",
       "      <td>0.000000</td>\n",
       "      <td>0.000000</td>\n",
       "      <td>0.114286</td>\n",
       "      <td>0.114286</td>\n",
       "      <td>0.909677</td>\n",
       "      <td>0.938710</td>\n",
       "    </tr>\n",
       "    <tr>\n",
       "      <th>4</th>\n",
       "      <td>New Amsterdam</td>\n",
       "      <td>Febbraio 2021</td>\n",
       "      <td>0.000000</td>\n",
       "      <td>0.000000</td>\n",
       "      <td>0.000000</td>\n",
       "      <td>0.000000</td>\n",
       "      <td>0.239286</td>\n",
       "      <td>0.267857</td>\n",
       "      <td>0.629032</td>\n",
       "      <td>0.725806</td>\n",
       "    </tr>\n",
       "  </tbody>\n",
       "</table>\n",
       "</div>"
      ],
      "text/plain": [
       "               Titolo       Premiere  Indice gen dicembre  \\\n",
       "0          Bridgerton     25.12.2020             0.187097   \n",
       "1  The Queen's Gambit     23.10.2020             0.796774   \n",
       "2               Lupin      8.1.20201             0.000000   \n",
       "3     Ginny & Georgia      24.2.2021             0.000000   \n",
       "4       New Amsterdam  Febbraio 2021             0.000000   \n",
       "\n",
       "   Indice tipo dicembre  Indice gen gennaio  Indice tipo gennaio  \\\n",
       "0              0.193548            0.883871             0.896774   \n",
       "1              0.906452            0.409677             0.593548   \n",
       "2              0.000000            0.706452             0.712903   \n",
       "3              0.000000            0.000000             0.000000   \n",
       "4              0.000000            0.000000             0.000000   \n",
       "\n",
       "   Indice gen febbraio  Indice tipo febbraio  Indice gen marzo  \\\n",
       "0             0.539286              0.710714          0.006452   \n",
       "1             0.007143              0.207143          0.000000   \n",
       "2             0.432143              0.639286          0.003226   \n",
       "3             0.114286              0.114286          0.909677   \n",
       "4             0.239286              0.267857          0.629032   \n",
       "\n",
       "   Indice tipo marzo  \n",
       "0           0.074194  \n",
       "1           0.000000  \n",
       "2           0.038710  \n",
       "3           0.938710  \n",
       "4           0.725806  "
      ]
     },
     "execution_count": 20,
     "metadata": {},
     "output_type": "execute_result"
    }
   ],
   "source": [
    "top5_storiche"
   ]
  },
  {
   "cell_type": "markdown",
   "id": "seventh-pharmacology",
   "metadata": {
    "scrolled": false
   },
   "source": [
    "Aggiungo colonne con indice di popolarità."
   ]
  },
  {
   "cell_type": "code",
   "execution_count": 21,
   "id": "falling-stream",
   "metadata": {},
   "outputs": [
    {
     "data": {
      "text/html": [
       "<div>\n",
       "<style scoped>\n",
       "    .dataframe tbody tr th:only-of-type {\n",
       "        vertical-align: middle;\n",
       "    }\n",
       "\n",
       "    .dataframe tbody tr th {\n",
       "        vertical-align: top;\n",
       "    }\n",
       "\n",
       "    .dataframe thead th {\n",
       "        text-align: right;\n",
       "    }\n",
       "</style>\n",
       "<table border=\"1\" class=\"dataframe\">\n",
       "  <thead>\n",
       "    <tr style=\"text-align: right;\">\n",
       "      <th></th>\n",
       "      <th>Titolo</th>\n",
       "      <th>Premiere</th>\n",
       "      <th>Indice gen dicembre</th>\n",
       "      <th>Indice tipo dicembre</th>\n",
       "      <th>Indice popolarità dicembre</th>\n",
       "      <th>Indice gen gennaio</th>\n",
       "      <th>Indice tipo gennaio</th>\n",
       "      <th>Indice popolarità gennaio</th>\n",
       "      <th>Indice gen febbraio</th>\n",
       "      <th>Indice tipo febbraio</th>\n",
       "      <th>Indice popolarità febbraio</th>\n",
       "      <th>Indice gen marzo</th>\n",
       "      <th>Indice tipo marzo</th>\n",
       "      <th>Indice popolarità marzo</th>\n",
       "    </tr>\n",
       "  </thead>\n",
       "  <tbody>\n",
       "    <tr>\n",
       "      <th>0</th>\n",
       "      <td>Bridgerton</td>\n",
       "      <td>25.12.2020</td>\n",
       "      <td>0.187097</td>\n",
       "      <td>0.193548</td>\n",
       "      <td>0.380645</td>\n",
       "      <td>0.883871</td>\n",
       "      <td>0.896774</td>\n",
       "      <td>1.780645</td>\n",
       "      <td>0.539286</td>\n",
       "      <td>0.710714</td>\n",
       "      <td>1.250000</td>\n",
       "      <td>0.006452</td>\n",
       "      <td>0.074194</td>\n",
       "      <td>0.080645</td>\n",
       "    </tr>\n",
       "    <tr>\n",
       "      <th>1</th>\n",
       "      <td>The Queen's Gambit</td>\n",
       "      <td>23.10.2020</td>\n",
       "      <td>0.796774</td>\n",
       "      <td>0.906452</td>\n",
       "      <td>1.703226</td>\n",
       "      <td>0.409677</td>\n",
       "      <td>0.593548</td>\n",
       "      <td>1.003226</td>\n",
       "      <td>0.007143</td>\n",
       "      <td>0.207143</td>\n",
       "      <td>0.214286</td>\n",
       "      <td>0.000000</td>\n",
       "      <td>0.000000</td>\n",
       "      <td>0.000000</td>\n",
       "    </tr>\n",
       "    <tr>\n",
       "      <th>2</th>\n",
       "      <td>Lupin</td>\n",
       "      <td>8.1.20201</td>\n",
       "      <td>0.000000</td>\n",
       "      <td>0.000000</td>\n",
       "      <td>0.000000</td>\n",
       "      <td>0.706452</td>\n",
       "      <td>0.712903</td>\n",
       "      <td>1.419355</td>\n",
       "      <td>0.432143</td>\n",
       "      <td>0.639286</td>\n",
       "      <td>1.071429</td>\n",
       "      <td>0.003226</td>\n",
       "      <td>0.038710</td>\n",
       "      <td>0.041935</td>\n",
       "    </tr>\n",
       "    <tr>\n",
       "      <th>3</th>\n",
       "      <td>Ginny &amp; Georgia</td>\n",
       "      <td>24.2.2021</td>\n",
       "      <td>0.000000</td>\n",
       "      <td>0.000000</td>\n",
       "      <td>0.000000</td>\n",
       "      <td>0.000000</td>\n",
       "      <td>0.000000</td>\n",
       "      <td>0.000000</td>\n",
       "      <td>0.114286</td>\n",
       "      <td>0.114286</td>\n",
       "      <td>0.228571</td>\n",
       "      <td>0.909677</td>\n",
       "      <td>0.938710</td>\n",
       "      <td>1.848387</td>\n",
       "    </tr>\n",
       "    <tr>\n",
       "      <th>4</th>\n",
       "      <td>New Amsterdam</td>\n",
       "      <td>Febbraio 2021</td>\n",
       "      <td>0.000000</td>\n",
       "      <td>0.000000</td>\n",
       "      <td>0.000000</td>\n",
       "      <td>0.000000</td>\n",
       "      <td>0.000000</td>\n",
       "      <td>0.000000</td>\n",
       "      <td>0.239286</td>\n",
       "      <td>0.267857</td>\n",
       "      <td>0.507143</td>\n",
       "      <td>0.629032</td>\n",
       "      <td>0.725806</td>\n",
       "      <td>1.354839</td>\n",
       "    </tr>\n",
       "  </tbody>\n",
       "</table>\n",
       "</div>"
      ],
      "text/plain": [
       "               Titolo       Premiere  Indice gen dicembre  \\\n",
       "0          Bridgerton     25.12.2020             0.187097   \n",
       "1  The Queen's Gambit     23.10.2020             0.796774   \n",
       "2               Lupin      8.1.20201             0.000000   \n",
       "3     Ginny & Georgia      24.2.2021             0.000000   \n",
       "4       New Amsterdam  Febbraio 2021             0.000000   \n",
       "\n",
       "   Indice tipo dicembre  Indice popolarità dicembre  Indice gen gennaio  \\\n",
       "0              0.193548                    0.380645            0.883871   \n",
       "1              0.906452                    1.703226            0.409677   \n",
       "2              0.000000                    0.000000            0.706452   \n",
       "3              0.000000                    0.000000            0.000000   \n",
       "4              0.000000                    0.000000            0.000000   \n",
       "\n",
       "   Indice tipo gennaio  Indice popolarità gennaio  Indice gen febbraio  \\\n",
       "0             0.896774                   1.780645             0.539286   \n",
       "1             0.593548                   1.003226             0.007143   \n",
       "2             0.712903                   1.419355             0.432143   \n",
       "3             0.000000                   0.000000             0.114286   \n",
       "4             0.000000                   0.000000             0.239286   \n",
       "\n",
       "   Indice tipo febbraio  Indice popolarità febbraio  Indice gen marzo  \\\n",
       "0              0.710714                    1.250000          0.006452   \n",
       "1              0.207143                    0.214286          0.000000   \n",
       "2              0.639286                    1.071429          0.003226   \n",
       "3              0.114286                    0.228571          0.909677   \n",
       "4              0.267857                    0.507143          0.629032   \n",
       "\n",
       "   Indice tipo marzo  Indice popolarità marzo  \n",
       "0           0.074194                 0.080645  \n",
       "1           0.000000                 0.000000  \n",
       "2           0.038710                 0.041935  \n",
       "3           0.938710                 1.848387  \n",
       "4           0.725806                 1.354839  "
      ]
     },
     "execution_count": 21,
     "metadata": {},
     "output_type": "execute_result"
    }
   ],
   "source": [
    "top5_storiche['Indice popolarità dicembre'] = top5_storiche['Indice gen dicembre'] + top5_storiche['Indice tipo dicembre']\n",
    "top5_storiche['Indice popolarità gennaio'] = top5_storiche['Indice gen gennaio'] + top5_storiche['Indice tipo gennaio']\n",
    "top5_storiche['Indice popolarità febbraio'] = top5_storiche['Indice gen febbraio'] + top5_storiche['Indice tipo febbraio']\n",
    "top5_storiche['Indice popolarità marzo'] = top5_storiche['Indice gen marzo'] + top5_storiche['Indice tipo marzo']\n",
    "\n",
    "top5_storiche[['Titolo', 'Premiere', \n",
    "               'Indice gen dicembre', 'Indice tipo dicembre', 'Indice popolarità dicembre',\n",
    "               'Indice gen gennaio', 'Indice tipo gennaio', 'Indice popolarità gennaio', \n",
    "               'Indice gen febbraio', 'Indice tipo febbraio', 'Indice popolarità febbraio',\n",
    "               'Indice gen marzo', 'Indice tipo marzo', 'Indice popolarità marzo']]"
   ]
  },
  {
   "cell_type": "markdown",
   "id": "advanced-shame",
   "metadata": {},
   "source": [
    "Esporto i dati in file csv"
   ]
  },
  {
   "cell_type": "code",
   "execution_count": 22,
   "id": "every-basic",
   "metadata": {},
   "outputs": [],
   "source": [
    "top5_storiche.to_csv(\"top5_storiche.csv\")"
   ]
  },
  {
   "cell_type": "code",
   "execution_count": null,
   "id": "enhanced-trail",
   "metadata": {},
   "outputs": [],
   "source": []
  }
 ],
 "metadata": {
  "kernelspec": {
   "display_name": "Python 3",
   "language": "python",
   "name": "python3"
  },
  "language_info": {
   "codemirror_mode": {
    "name": "ipython",
    "version": 3
   },
   "file_extension": ".py",
   "mimetype": "text/x-python",
   "name": "python",
   "nbconvert_exporter": "python",
   "pygments_lexer": "ipython3",
   "version": "3.8.5"
  }
 },
 "nbformat": 4,
 "nbformat_minor": 5
}
