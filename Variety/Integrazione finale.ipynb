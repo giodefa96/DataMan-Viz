{
 "cells": [
  {
   "cell_type": "markdown",
   "id": "eight-steering",
   "metadata": {},
   "source": [
    "# Integrazione finale\n",
    "\n",
    "Integro tra loro i dati sui titoli presi da wikipedia e quelli presi da IMDb, aggiungo a mano le informazioni su qualche titolo mancante."
   ]
  },
  {
   "cell_type": "code",
   "execution_count": 1,
   "id": "arctic-forge",
   "metadata": {},
   "outputs": [],
   "source": [
    "import pandas as pd"
   ]
  },
  {
   "cell_type": "markdown",
   "id": "catholic-emphasis",
   "metadata": {},
   "source": [
    "Leggo i dataset"
   ]
  },
  {
   "cell_type": "code",
   "execution_count": 2,
   "id": "neural-conversion",
   "metadata": {},
   "outputs": [],
   "source": [
    "# Dataset con titoli e dati di wikipedia\n",
    "\n",
    "film_wiki = pd.read_csv(\"Dati_integrati/wiki_film_dic-mar.csv\", index_col = 0)\n",
    "serie_tv_wiki = pd.read_csv(\"Dati_integrati/wiki_serie_dic-mar.csv\", index_col = 0)"
   ]
  },
  {
   "cell_type": "code",
   "execution_count": 3,
   "id": "downtown-guard",
   "metadata": {},
   "outputs": [],
   "source": [
    "# Dataset con dati imdb\n",
    "\n",
    "imdb = pd.read_csv(\"Data_flixpatrol/Dati_netflix_dicembre-aprile/ratings_imdb_dic-mar2021.csv\", index_col = 0)"
   ]
  },
  {
   "cell_type": "code",
   "execution_count": 4,
   "id": "golden-gardening",
   "metadata": {},
   "outputs": [],
   "source": [
    "# Dataset con dati di Netflix\n",
    "\n",
    "#netflix = pd.read_csv(\"Data_flixpatrol/Dati_netflix_dicembre-aprile/netflix_dic-mar2021.csv\", index_col = 0)"
   ]
  },
  {
   "cell_type": "markdown",
   "id": "seeing-glass",
   "metadata": {},
   "source": [
    "Creo i due nuovi database __movies__ e __tv_series__ in cui incrocio i dati di Wikipedia con i rating di IMDb."
   ]
  },
  {
   "cell_type": "code",
   "execution_count": 5,
   "id": "proved-fortune",
   "metadata": {},
   "outputs": [],
   "source": [
    "movies = pd.merge(film_wiki, imdb, left_on = 'Titolo', right_on = 'Title')\n",
    "movies = movies.drop(columns = ['Title', 'Type'])"
   ]
  },
  {
   "cell_type": "code",
   "execution_count": 6,
   "id": "favorite-bundle",
   "metadata": {},
   "outputs": [],
   "source": [
    "tv_series = pd.merge(serie_tv_wiki, imdb, left_on = 'Titolo', right_on = 'Title')\n",
    "tv_series = tv_series.drop(columns = ['Title', 'Type'])"
   ]
  },
  {
   "cell_type": "markdown",
   "id": "immune-comparison",
   "metadata": {},
   "source": [
    "# Creazione dell'indice di popolarità\n",
    "Prima leggo i dati dal database flixpatrol."
   ]
  },
  {
   "cell_type": "code",
   "execution_count": 7,
   "id": "russian-purse",
   "metadata": {},
   "outputs": [],
   "source": [
    "top10 = pd.read_csv(\"Data_flixpatrol/Dati_netflix_dicembre-aprile/top_ten_dic-mar2021.csv\", index_col= 0)\n",
    "top_film = pd.read_csv(\"Data_flixpatrol/Dati_netflix_dicembre-aprile/top_ten_film_dic-mar2021.csv\", index_col= 0)\n",
    "top_serie = pd.read_csv(\"Data_flixpatrol/Dati_netflix_dicembre-aprile/top_ten_serie_dic-mar2021.csv\", index_col= 0)"
   ]
  },
  {
   "cell_type": "markdown",
   "id": "intense-jersey",
   "metadata": {},
   "source": [
    "## Creazione indice, calcolato sul dataframe flix"
   ]
  },
  {
   "cell_type": "markdown",
   "id": "environmental-priest",
   "metadata": {},
   "source": [
    "Per ogni film f, considerando la classifica totale, il suo indice di popolarità è dato da:\n",
    "\n",
    "$$ I(f) = \\frac{\\sum_{g \\in G}(10 - ranking(f))}{10*N}$$\n",
    "\n",
    "dove G è l'insieme dei giorni considerati, N è la cardinalità di G, e il ranking(f) vale 0 se f è primo in classifica, 2 se è secondo eccetera, e infine vale 10 se non è in classifica.\n",
    "Il ranking vale dunque: $$ranking(f) = ranking - 1$$\n",
    "dove il ranking è la colonna del dataframe in esame."
   ]
  },
  {
   "cell_type": "code",
   "execution_count": 8,
   "id": "vulnerable-humanitarian",
   "metadata": {},
   "outputs": [],
   "source": [
    "# Calcolo indice relativo alla classifica generale (contenuta nel df top10)\n",
    "\n",
    "def indice_popolarità_gen(riga):\n",
    "\n",
    "    # In tutto ho 121 giorni (31 (dicembre) + 31 (gennaio) + 28 (febbraio) + 31 (marzo))\n",
    "    num_giorni = 121\n",
    "    \n",
    "    # Raggruppo il dataframe delle classifiche per il titolo, così ho i dati relativi ai giorni\n",
    "    # in cui quel titolo è stato in classifica, ottengo una serie (s) con la posizione (ranking) per ogni \n",
    "    # giorno in cui quel titolo è stato in classifica\n",
    "    s = top10[top10['name'] == riga['Titolo']][['name','ranking']]\n",
    "    \n",
    "    # Calcolo il numeratore dell'indice\n",
    "    indice = 0\n",
    "\n",
    "    for r in s['ranking']:\n",
    "        indice = indice + (10 - (r - 1)) \n",
    "    \n",
    "    # Divido ora il numeratore per denominatore ottenendo l'indice\n",
    "    return indice/(10*num_giorni)"
   ]
  },
  {
   "cell_type": "markdown",
   "id": "coral-nirvana",
   "metadata": {},
   "source": [
    "Uso la stessa funzione anche per calcolare l'indice con una classifica diversa, cambio solo i df da cui prendo i dati."
   ]
  },
  {
   "cell_type": "code",
   "execution_count": 9,
   "id": "bigger-cliff",
   "metadata": {},
   "outputs": [],
   "source": [
    "# Calcolo indice relativo alla classifica dei film (contenuta nel df top_film)\n",
    "\n",
    "def indice_popolarità_film(riga):\n",
    "\n",
    "    # In tutto ho 121 giorni (31 (dicembre) + 31 (gennaio) + 28 (febbraio) + 31 (marzo))\n",
    "    num_giorni = 121\n",
    "    \n",
    "    # Raggruppo il dataframe delle classifiche per il titolo, così ho i dati relativi ai giorni\n",
    "    # in cui quel titolo è stato in classifica, ottengo una serie (s) con la posizione (ranking) per ogni \n",
    "    # giorno in cui quel titolo è stato in classifica\n",
    "    s = top_film[top_film['name'] == riga['Titolo']][['name','ranking']]\n",
    "    \n",
    "    # Calcolo il numeratore dell'indice\n",
    "    indice = 0\n",
    "\n",
    "    for r in s['ranking']:\n",
    "        indice = indice + (10 - (r - 1)) \n",
    "    \n",
    "    # Divido ora il numeratore per denominatore ottenendo l'indice\n",
    "    return indice/(10*num_giorni)"
   ]
  },
  {
   "cell_type": "code",
   "execution_count": 10,
   "id": "downtown-woman",
   "metadata": {},
   "outputs": [],
   "source": [
    "# Calcolo indice relativo alla classifica delle serie (contenuta nel df top_serie)\n",
    "\n",
    "def indice_popolarità_serie(riga):\n",
    "\n",
    "    # In tutto ho 121 giorni (31 (dicembre) + 31 (gennaio) + 28 (febbraio) + 31 (marzo))\n",
    "    num_giorni = 121\n",
    "    \n",
    "    # Raggruppo il dataframe delle classifiche per il titolo, così ho i dati relativi ai giorni\n",
    "    # in cui quel titolo è stato in classifica, ottengo una serie (s) con la posizione (ranking) per ogni \n",
    "    # giorno in cui quel titolo è stato in classifica\n",
    "    s = top_serie[top_serie['name'] == riga['Titolo']][['name','ranking']]\n",
    "    \n",
    "    # Calcolo il numeratore dell'indice\n",
    "    indice = 0\n",
    "\n",
    "    for r in s['ranking']:\n",
    "        indice = indice + (10 - (r - 1)) \n",
    "    \n",
    "    # Divido ora il numeratore per denominatore ottenendo l'indice\n",
    "    return indice/(10*num_giorni)"
   ]
  },
  {
   "cell_type": "markdown",
   "id": "satisfactory-chancellor",
   "metadata": {},
   "source": [
    "Nei due dataframe la colonna _Indice_generale_ si riferisce all'indice i popolarità per quel titolo nella classifica generale, invece _Indice_tipo_ di riferisce all'indice di popolarità per la classifica specifica (solo film o solo serie tv)."
   ]
  },
  {
   "cell_type": "code",
   "execution_count": 11,
   "id": "patient-compact",
   "metadata": {},
   "outputs": [],
   "source": [
    "# Dataframe dei film\n",
    "\n",
    "movies['Indice_generale'] = movies.apply(indice_popolarità_gen, axis = 1)\n",
    "movies['Indice_tipo'] = movies.apply(indice_popolarità_film, axis = 1)"
   ]
  },
  {
   "cell_type": "code",
   "execution_count": 12,
   "id": "speaking-twist",
   "metadata": {},
   "outputs": [
    {
     "data": {
      "text/html": [
       "<div>\n",
       "<style scoped>\n",
       "    .dataframe tbody tr th:only-of-type {\n",
       "        vertical-align: middle;\n",
       "    }\n",
       "\n",
       "    .dataframe tbody tr th {\n",
       "        vertical-align: top;\n",
       "    }\n",
       "\n",
       "    .dataframe thead th {\n",
       "        text-align: right;\n",
       "    }\n",
       "</style>\n",
       "<table border=\"1\" class=\"dataframe\">\n",
       "  <thead>\n",
       "    <tr style=\"text-align: right;\">\n",
       "      <th></th>\n",
       "      <th>Titolo</th>\n",
       "      <th>Paese</th>\n",
       "      <th>Produzione</th>\n",
       "      <th>Distribuzione</th>\n",
       "      <th>Cast</th>\n",
       "      <th>Creatore</th>\n",
       "      <th>Durata</th>\n",
       "      <th>Regista</th>\n",
       "      <th>Budget</th>\n",
       "      <th>Box_office</th>\n",
       "      <th>Sommario</th>\n",
       "      <th>Trama</th>\n",
       "      <th>Cast_testo</th>\n",
       "      <th>Produzione_testo</th>\n",
       "      <th>Critica</th>\n",
       "      <th>Average_rating</th>\n",
       "      <th>Num_votes</th>\n",
       "      <th>Indice_generale</th>\n",
       "      <th>Indice_tipo</th>\n",
       "    </tr>\n",
       "  </thead>\n",
       "  <tbody>\n",
       "    <tr>\n",
       "      <th>0</th>\n",
       "      <td>365 Days</td>\n",
       "      <td>Poland</td>\n",
       "      <td>Ekipa Sp. z o.o. Future Space Next Film TVN</td>\n",
       "      <td>Next Film</td>\n",
       "      <td>Anna-Maria Sieklucka Michele Morrone Bronisław...</td>\n",
       "      <td>Tomasz Klimala Barbara Białowąs Tomasz Mandes ...</td>\n",
       "      <td>114 minutes</td>\n",
       "      <td>Barbara Białowąs Tomasz Mandes</td>\n",
       "      <td>NaN</td>\n",
       "      <td>$9.5 million[1]</td>\n",
       "      <td>365 Days (Polish: 365 Dni) is a 2020 Polish er...</td>\n",
       "      <td>Section: Plot (1):\\nAfter a meeting between th...</td>\n",
       "      <td>Section: Cast (1):\\nMichele Morrone as Don Mas...</td>\n",
       "      <td>Section: Production (1):\\nThe film scenes were...</td>\n",
       "      <td>Section: Reception (1):\\nThe film made the top...</td>\n",
       "      <td>3.2</td>\n",
       "      <td>54757.0</td>\n",
       "      <td>0.00000</td>\n",
       "      <td>0.000826</td>\n",
       "    </tr>\n",
       "    <tr>\n",
       "      <th>1</th>\n",
       "      <td>5 Is the Perfect Number</td>\n",
       "      <td>Italy</td>\n",
       "      <td>Rai Cinema</td>\n",
       "      <td>01 Distribution</td>\n",
       "      <td>Toni ServilloValeria GolinoCarlo BuccirossoIai...</td>\n",
       "      <td>Igort</td>\n",
       "      <td>100 minutes</td>\n",
       "      <td>Igort</td>\n",
       "      <td>NaN</td>\n",
       "      <td>NaN</td>\n",
       "      <td>5 Is the Perfect Number (Italian: 5 è il numer...</td>\n",
       "      <td>Section: Plot (1):\\nIn the 1970s Naples, the r...</td>\n",
       "      <td>Section: Cast (1):\\n\\nSubsections (0):\\n</td>\n",
       "      <td>NaN</td>\n",
       "      <td>NaN</td>\n",
       "      <td>5.3</td>\n",
       "      <td>1075.0</td>\n",
       "      <td>0.00000</td>\n",
       "      <td>0.030579</td>\n",
       "    </tr>\n",
       "    <tr>\n",
       "      <th>2</th>\n",
       "      <td>A California Christmas</td>\n",
       "      <td>United States</td>\n",
       "      <td>ESX Entertainment</td>\n",
       "      <td>NaN</td>\n",
       "      <td>Lauren Swickard Josh Swickard</td>\n",
       "      <td>Lauren Swickard</td>\n",
       "      <td>106 minutes</td>\n",
       "      <td>Shaun Piccinino</td>\n",
       "      <td>NaN</td>\n",
       "      <td>NaN</td>\n",
       "      <td>A California Christmas is a 2020 Christmas fil...</td>\n",
       "      <td>Section: Plot (1):\\nJoseph Van Aston lives a c...</td>\n",
       "      <td>Section: Cast (1):\\n\\nSubsections (0):\\n</td>\n",
       "      <td>NaN</td>\n",
       "      <td>NaN</td>\n",
       "      <td>5.7</td>\n",
       "      <td>6543.0</td>\n",
       "      <td>0.06281</td>\n",
       "      <td>0.114876</td>\n",
       "    </tr>\n",
       "  </tbody>\n",
       "</table>\n",
       "</div>"
      ],
      "text/plain": [
       "                    Titolo          Paese  \\\n",
       "0                 365 Days         Poland   \n",
       "1  5 Is the Perfect Number          Italy   \n",
       "2   A California Christmas  United States   \n",
       "\n",
       "                                    Produzione    Distribuzione  \\\n",
       "0  Ekipa Sp. z o.o. Future Space Next Film TVN        Next Film   \n",
       "1                                   Rai Cinema  01 Distribution   \n",
       "2                            ESX Entertainment              NaN   \n",
       "\n",
       "                                                Cast  \\\n",
       "0  Anna-Maria Sieklucka Michele Morrone Bronisław...   \n",
       "1  Toni ServilloValeria GolinoCarlo BuccirossoIai...   \n",
       "2                      Lauren Swickard Josh Swickard   \n",
       "\n",
       "                                            Creatore       Durata  \\\n",
       "0  Tomasz Klimala Barbara Białowąs Tomasz Mandes ...  114 minutes   \n",
       "1                                              Igort  100 minutes   \n",
       "2                                    Lauren Swickard  106 minutes   \n",
       "\n",
       "                          Regista Budget       Box_office  \\\n",
       "0  Barbara Białowąs Tomasz Mandes    NaN  $9.5 million[1]   \n",
       "1                           Igort    NaN              NaN   \n",
       "2                 Shaun Piccinino    NaN              NaN   \n",
       "\n",
       "                                            Sommario  \\\n",
       "0  365 Days (Polish: 365 Dni) is a 2020 Polish er...   \n",
       "1  5 Is the Perfect Number (Italian: 5 è il numer...   \n",
       "2  A California Christmas is a 2020 Christmas fil...   \n",
       "\n",
       "                                               Trama  \\\n",
       "0  Section: Plot (1):\\nAfter a meeting between th...   \n",
       "1  Section: Plot (1):\\nIn the 1970s Naples, the r...   \n",
       "2  Section: Plot (1):\\nJoseph Van Aston lives a c...   \n",
       "\n",
       "                                          Cast_testo  \\\n",
       "0  Section: Cast (1):\\nMichele Morrone as Don Mas...   \n",
       "1           Section: Cast (1):\\n\\nSubsections (0):\\n   \n",
       "2           Section: Cast (1):\\n\\nSubsections (0):\\n   \n",
       "\n",
       "                                    Produzione_testo  \\\n",
       "0  Section: Production (1):\\nThe film scenes were...   \n",
       "1                                                NaN   \n",
       "2                                                NaN   \n",
       "\n",
       "                                             Critica  Average_rating  \\\n",
       "0  Section: Reception (1):\\nThe film made the top...             3.2   \n",
       "1                                                NaN             5.3   \n",
       "2                                                NaN             5.7   \n",
       "\n",
       "   Num_votes  Indice_generale  Indice_tipo  \n",
       "0    54757.0          0.00000     0.000826  \n",
       "1     1075.0          0.00000     0.030579  \n",
       "2     6543.0          0.06281     0.114876  "
      ]
     },
     "execution_count": 12,
     "metadata": {},
     "output_type": "execute_result"
    }
   ],
   "source": [
    "movies.head(3)"
   ]
  },
  {
   "cell_type": "code",
   "execution_count": 13,
   "id": "forbidden-brazil",
   "metadata": {
    "scrolled": false
   },
   "outputs": [],
   "source": [
    "# Dataframe delle serie tv\n",
    "\n",
    "tv_series['Indice_generale'] = tv_series.apply(indice_popolarità_gen, axis = 1)\n",
    "tv_series['Indice_tipo'] = tv_series.apply(indice_popolarità_serie, axis = 1)"
   ]
  },
  {
   "cell_type": "code",
   "execution_count": 14,
   "id": "individual-torture",
   "metadata": {},
   "outputs": [
    {
     "data": {
      "text/html": [
       "<div>\n",
       "<style scoped>\n",
       "    .dataframe tbody tr th:only-of-type {\n",
       "        vertical-align: middle;\n",
       "    }\n",
       "\n",
       "    .dataframe tbody tr th {\n",
       "        vertical-align: top;\n",
       "    }\n",
       "\n",
       "    .dataframe thead th {\n",
       "        text-align: right;\n",
       "    }\n",
       "</style>\n",
       "<table border=\"1\" class=\"dataframe\">\n",
       "  <thead>\n",
       "    <tr style=\"text-align: right;\">\n",
       "      <th></th>\n",
       "      <th>Titolo</th>\n",
       "      <th>Paese</th>\n",
       "      <th>Produzione</th>\n",
       "      <th>Distribuzione</th>\n",
       "      <th>Cast</th>\n",
       "      <th>Creatore</th>\n",
       "      <th>Durata_episodio</th>\n",
       "      <th>Genere</th>\n",
       "      <th>N_stagioni</th>\n",
       "      <th>N_episodi</th>\n",
       "      <th>Sommario</th>\n",
       "      <th>Cast_testo</th>\n",
       "      <th>Produzione_testo</th>\n",
       "      <th>Critica</th>\n",
       "      <th>Average_rating</th>\n",
       "      <th>Num_votes</th>\n",
       "      <th>Indice_generale</th>\n",
       "      <th>Indice_tipo</th>\n",
       "    </tr>\n",
       "  </thead>\n",
       "  <tbody>\n",
       "    <tr>\n",
       "      <th>0</th>\n",
       "      <td>Age of Samurai: Battle for Japan</td>\n",
       "      <td>NaN</td>\n",
       "      <td>Netflix</td>\n",
       "      <td>NaN</td>\n",
       "      <td>Masayoshi Haneda Masami Kosaka Hideaki Itō Hay...</td>\n",
       "      <td>NaN</td>\n",
       "      <td>43–45 minutes</td>\n",
       "      <td>NaN</td>\n",
       "      <td>1</td>\n",
       "      <td>6</td>\n",
       "      <td>Age of Samurai: Battle for Japan is an America...</td>\n",
       "      <td>NaN</td>\n",
       "      <td>NaN</td>\n",
       "      <td>NaN</td>\n",
       "      <td>7.5</td>\n",
       "      <td>2218.0</td>\n",
       "      <td>0.023967</td>\n",
       "      <td>0.027273</td>\n",
       "    </tr>\n",
       "    <tr>\n",
       "      <th>1</th>\n",
       "      <td>Agents of S.H.I.E.L.D.</td>\n",
       "      <td>United States</td>\n",
       "      <td>ABC Studios Marvel Television Mutant Enemy Pro...</td>\n",
       "      <td>Walt Disney Television</td>\n",
       "      <td>Clark Gregg Ming-Na Wen Brett Dalton Chloe Ben...</td>\n",
       "      <td>Joss Whedon Jed Whedon Maurissa Tancharoen</td>\n",
       "      <td>41–44 minutes</td>\n",
       "      <td>Action Drama Science fiction Superhero</td>\n",
       "      <td>7</td>\n",
       "      <td>136 (list of episodes)</td>\n",
       "      <td>Marvel's Agents of S.H.I.E.L.D. is an American...</td>\n",
       "      <td>Section: Cast and characters (1):\\nClark Gregg...</td>\n",
       "      <td>Section: Production (1):\\n\\nSubsections (8):\\n...</td>\n",
       "      <td>Section: Reception (1):\\n\\nSubsections (4):\\nS...</td>\n",
       "      <td>7.5</td>\n",
       "      <td>201304.0</td>\n",
       "      <td>0.000000</td>\n",
       "      <td>0.019835</td>\n",
       "    </tr>\n",
       "    <tr>\n",
       "      <th>2</th>\n",
       "      <td>Alice in Borderland</td>\n",
       "      <td>Japan</td>\n",
       "      <td>Robot Communications Inc.</td>\n",
       "      <td>Netflix</td>\n",
       "      <td>Kento Yamazaki Tao Tsuchiya Yūki Morinaga Keit...</td>\n",
       "      <td>NaN</td>\n",
       "      <td>41–52 minutes</td>\n",
       "      <td>Science fiction[1] Suspense-thriller[2] Drama[3]</td>\n",
       "      <td>1</td>\n",
       "      <td>8 (list of episodes)</td>\n",
       "      <td>Alice in Borderland (Japanese: 今際の国のアリス, Hepbu...</td>\n",
       "      <td>Section: Cast and characters (1):\\n\\nSubsectio...</td>\n",
       "      <td>Section: Production (1):\\n\\nSubsections (3):\\n...</td>\n",
       "      <td>Section: Reception (1):\\n\\nSubsections (2):\\nS...</td>\n",
       "      <td>7.7</td>\n",
       "      <td>18897.0</td>\n",
       "      <td>0.047934</td>\n",
       "      <td>0.097521</td>\n",
       "    </tr>\n",
       "  </tbody>\n",
       "</table>\n",
       "</div>"
      ],
      "text/plain": [
       "                             Titolo          Paese  \\\n",
       "0  Age of Samurai: Battle for Japan            NaN   \n",
       "1            Agents of S.H.I.E.L.D.  United States   \n",
       "2               Alice in Borderland          Japan   \n",
       "\n",
       "                                          Produzione           Distribuzione  \\\n",
       "0                                            Netflix                     NaN   \n",
       "1  ABC Studios Marvel Television Mutant Enemy Pro...  Walt Disney Television   \n",
       "2                          Robot Communications Inc.                 Netflix   \n",
       "\n",
       "                                                Cast  \\\n",
       "0  Masayoshi Haneda Masami Kosaka Hideaki Itō Hay...   \n",
       "1  Clark Gregg Ming-Na Wen Brett Dalton Chloe Ben...   \n",
       "2  Kento Yamazaki Tao Tsuchiya Yūki Morinaga Keit...   \n",
       "\n",
       "                                     Creatore Durata_episodio  \\\n",
       "0                                         NaN   43–45 minutes   \n",
       "1  Joss Whedon Jed Whedon Maurissa Tancharoen   41–44 minutes   \n",
       "2                                         NaN   41–52 minutes   \n",
       "\n",
       "                                             Genere N_stagioni  \\\n",
       "0                                               NaN          1   \n",
       "1            Action Drama Science fiction Superhero          7   \n",
       "2  Science fiction[1] Suspense-thriller[2] Drama[3]          1   \n",
       "\n",
       "                N_episodi                                           Sommario  \\\n",
       "0                       6  Age of Samurai: Battle for Japan is an America...   \n",
       "1  136 (list of episodes)  Marvel's Agents of S.H.I.E.L.D. is an American...   \n",
       "2    8 (list of episodes)  Alice in Borderland (Japanese: 今際の国のアリス, Hepbu...   \n",
       "\n",
       "                                          Cast_testo  \\\n",
       "0                                                NaN   \n",
       "1  Section: Cast and characters (1):\\nClark Gregg...   \n",
       "2  Section: Cast and characters (1):\\n\\nSubsectio...   \n",
       "\n",
       "                                    Produzione_testo  \\\n",
       "0                                                NaN   \n",
       "1  Section: Production (1):\\n\\nSubsections (8):\\n...   \n",
       "2  Section: Production (1):\\n\\nSubsections (3):\\n...   \n",
       "\n",
       "                                             Critica  Average_rating  \\\n",
       "0                                                NaN             7.5   \n",
       "1  Section: Reception (1):\\n\\nSubsections (4):\\nS...             7.5   \n",
       "2  Section: Reception (1):\\n\\nSubsections (2):\\nS...             7.7   \n",
       "\n",
       "   Num_votes  Indice_generale  Indice_tipo  \n",
       "0     2218.0         0.023967     0.027273  \n",
       "1   201304.0         0.000000     0.019835  \n",
       "2    18897.0         0.047934     0.097521  "
      ]
     },
     "execution_count": 14,
     "metadata": {},
     "output_type": "execute_result"
    }
   ],
   "source": [
    "tv_series.head(3)"
   ]
  },
  {
   "cell_type": "markdown",
   "id": "interested-trade",
   "metadata": {},
   "source": [
    "### Esporto in file csv"
   ]
  },
  {
   "cell_type": "code",
   "execution_count": 15,
   "id": "satellite-nightmare",
   "metadata": {},
   "outputs": [],
   "source": [
    "movies.to_csv(\"film_integrati.csv\")"
   ]
  },
  {
   "cell_type": "code",
   "execution_count": 16,
   "id": "amazing-digest",
   "metadata": {},
   "outputs": [],
   "source": [
    "tv_series.to_csv(\"serie_tv_integrate.csv\")"
   ]
  },
  {
   "cell_type": "code",
   "execution_count": 17,
   "id": "vanilla-recorder",
   "metadata": {},
   "outputs": [
    {
     "data": {
      "text/plain": [
       "(140, 19)"
      ]
     },
     "execution_count": 17,
     "metadata": {},
     "output_type": "execute_result"
    }
   ],
   "source": [
    "movies.shape"
   ]
  },
  {
   "cell_type": "code",
   "execution_count": 18,
   "id": "fifty-treaty",
   "metadata": {},
   "outputs": [
    {
     "data": {
      "text/plain": [
       "(68, 18)"
      ]
     },
     "execution_count": 18,
     "metadata": {},
     "output_type": "execute_result"
    }
   ],
   "source": [
    "tv_series.shape"
   ]
  },
  {
   "cell_type": "code",
   "execution_count": null,
   "id": "selective-liabilities",
   "metadata": {},
   "outputs": [],
   "source": []
  }
 ],
 "metadata": {
  "kernelspec": {
   "display_name": "Python 3",
   "language": "python",
   "name": "python3"
  },
  "language_info": {
   "codemirror_mode": {
    "name": "ipython",
    "version": 3
   },
   "file_extension": ".py",
   "mimetype": "text/x-python",
   "name": "python",
   "nbconvert_exporter": "python",
   "pygments_lexer": "ipython3",
   "version": "3.8.5"
  }
 },
 "nbformat": 4,
 "nbformat_minor": 5
}
